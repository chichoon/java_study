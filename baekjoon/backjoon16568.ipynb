{
 "cells": [
  {
   "cell_type": "code",
   "execution_count": null,
   "metadata": {},
   "outputs": [],
   "source": []
  },
  {
   "cell_type": "code",
   "execution_count": 55,
   "metadata": {},
   "outputs": [
    {
     "name": "stdout",
     "output_type": "stream",
     "text": [
      "7 3 2\n"
     ]
    }
   ],
   "source": [
    "N, a, b = input(\"\").split()\n",
    "a = int(a)\n",
    "b = int(b)\n",
    "N = int(N)"
   ]
  },
  {
   "cell_type": "code",
   "execution_count": 56,
   "metadata": {},
   "outputs": [],
   "source": [
    "if(a > b):\n",
    "    max = a\n",
    "    min = b\n",
    "elif(a<=b):\n",
    "    max = b\n",
    "    min = a"
   ]
  },
  {
   "cell_type": "code",
   "execution_count": 57,
   "metadata": {},
   "outputs": [
    {
     "name": "stdout",
     "output_type": "stream",
     "text": [
      "2\n"
     ]
    }
   ],
   "source": [
    "remain = N\n",
    "i = 0\n",
    "\n",
    "while remain > 1:\n",
    "    remain -= 1\n",
    "    \n",
    "    if remain - max >= 0:\n",
    "        remain -= max\n",
    "    elif remain - max < 0:\n",
    "        if remain - min >= 0:\n",
    "            remain -= min\n",
    "            \n",
    "    i += 1\n",
    "\n",
    "print(i)"
   ]
  },
  {
   "cell_type": "code",
   "execution_count": null,
   "metadata": {},
   "outputs": [],
   "source": []
  }
 ],
 "metadata": {
  "kernelspec": {
   "display_name": "Python 3",
   "language": "python",
   "name": "python3"
  },
  "language_info": {
   "codemirror_mode": {
    "name": "ipython",
    "version": 3
   },
   "file_extension": ".py",
   "mimetype": "text/x-python",
   "name": "python",
   "nbconvert_exporter": "python",
   "pygments_lexer": "ipython3",
   "version": "3.7.4"
  }
 },
 "nbformat": 4,
 "nbformat_minor": 2
}
