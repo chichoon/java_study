{
 "cells": [
  {
   "cell_type": "code",
   "execution_count": 2,
   "metadata": {},
   "outputs": [
    {
     "data": {
      "text/html": [
       "<style> .container{width:90% !important;}</style>"
      ],
      "text/plain": [
       "<IPython.core.display.HTML object>"
      ]
     },
     "metadata": {},
     "output_type": "display_data"
    }
   ],
   "source": [
    "from __future__ import absolute_import, division, print_function, unicode_literals\n",
    "import tensorflow as tf\n",
    "from tensorflow.keras import Model\n",
    "from PIL import Image\n",
    "import numpy as np\n",
    "import os\n",
    "import matplotlib.pyplot as plt\n",
    "from IPython.core.display import display, HTML\n",
    "\n",
    "display(HTML(\"<style> .container{width:90% !important;}</style>\"))\n",
    "\n",
    "mnist = tf.keras.datasets.mnist\n",
    "\n",
    "tf.keras.backend.set_floatx('float64')\n",
    "\n",
    "#값 0 <= x <= 1 사이로 조절\n",
    "(x_train, y_train), (x_test, y_test) = mnist.load_data()\n",
    "x_train, x_test = x_train / 255.0, x_test / 255.0\n",
    "\n",
    "#채널 차원 추가\n",
    "#마지막 채널은 컬러 채널로, 이미지가 흑백이기 때문에 1\n",
    "x_train = x_train[..., tf.newaxis]\n",
    "x_test = x_test[..., tf.newaxis]\n",
    "\n",
    "#train_dataset , test_dataset\n",
    "#배치 형태로 저장됨 - BatchDataset\n",
    "train_ds = tf.data.Dataset.from_tensor_slices((x_train, y_train)).shuffle(5000).batch(100)\n",
    "test_ds = tf.data.Dataset.from_tensor_slices((x_test, y_test)).batch(32)\n"
   ]
  },
  {
   "cell_type": "code",
   "execution_count": 3,
   "metadata": {},
   "outputs": [],
   "source": [
    "########### Keras 모델 ###########\n",
    "class CNN (Model):\n",
    "  def __init__(self):\n",
    "    super(CNN, self).__init__()\n",
    "    self.conv = tf.keras.layers.Conv2D(32, 3, padding='same', activation='relu')\n",
    "    self.pool = tf.keras.layers.MaxPooling2D(pool_size = (2,2), strides = 2, padding = 'same')\n",
    "    self.flatten = tf.keras.layers.Flatten()\n",
    "    #self.layer1 = tf.keras.layers.Dense(1024, activation='relu')\n",
    "    #self.layer2 = tf.keras.layers.Dense(512, activation='relu')\n",
    "    self.layer3 = tf.keras.layers.Dense(256, activation='relu')\n",
    "    self.layer4 = tf.keras.layers.Dense(128, activation='relu')\n",
    "    self.out = tf.keras.layers.Dense(10, activation='softmax')\n",
    "    \n",
    "  def call(self, x):\n",
    "    x = self.conv(x)\n",
    "    x = self.pool(x)\n",
    "    x = self.flatten(x)\n",
    "    #x = self.layer1(x)\n",
    "    #x = self.layer2(x)\n",
    "    x = self.layer3(x)\n",
    "    x = self.layer4(x)\n",
    "    return self.out(x)\n",
    "\n",
    "model = CNN()"
   ]
  },
  {
   "cell_type": "code",
   "execution_count": 4,
   "metadata": {},
   "outputs": [],
   "source": [
    "########### 기타 변수 설정 ###########\n",
    "Epochs = 10 #Total Epoch - 총 학습 횟수\n",
    "L = 0.001 #Learninng rate\n",
    "optimizer = tf.keras.optimizers.Adam(L)\n",
    "loss = tf.keras.losses.SparseCategoricalCrossentropy()\n",
    "\n",
    "#측정 항목 (metrics) 설정\n",
    "train_loss = tf.metrics.Mean(name = 'train_loss')\n",
    "train_accuracy = tf.metrics.SparseCategoricalAccuracy()\n",
    "test_loss = tf.metrics.Mean(name = 'test_loss')\n",
    "test_accuracy = tf.metrics.SparseCategoricalAccuracy()"
   ]
  },
  {
   "cell_type": "code",
   "execution_count": 5,
   "metadata": {},
   "outputs": [
    {
     "name": "stdout",
     "output_type": "stream",
     "text": [
      "에포크: 1, 손실: 0.1779858351048703, 정확도: 94.80499999999999, 테스트 손실: 0.07200008208784216, 테스트 정확도: 97.64\n",
      "에포크: 2, 손실: 0.11702744813965789, 정확도: 96.5375, 테스트 손실: 0.06218269266544364, 테스트 정확도: 97.97\n",
      "에포크: 3, 손실: 0.08952168351912405, 정확도: 97.32388888888889, 테스트 손실: 0.06069195939856693, 테스트 정확도: 98.05\n",
      "에포크: 4, 손실: 0.07301522351085926, 정확도: 97.80291666666666, 테스트 손실: 0.05769639138968098, 테스트 정확도: 98.1475\n",
      "에포크: 5, 손실: 0.06160966203975841, 정확도: 98.13933333333334, 테스트 손실: 0.05681927945301454, 테스트 정확도: 98.21\n",
      "에포크: 6, 손실: 0.05341762363924418, 정확도: 98.38416666666666, 테스트 손실: 0.05536414955226516, 테스트 정확도: 98.27666666666667\n",
      "에포크: 7, 손실: 0.04704616410365339, 정확도: 98.57380952380952, 테스트 손실: 0.055075905174675706, 테스트 정확도: 98.31857142857143\n",
      "에포크: 8, 손실: 0.042396612592135625, 정확도: 98.70979166666667, 테스트 손실: 0.056258083924056214, 테스트 정확도: 98.31625000000001\n",
      "에포크: 9, 손실: 0.03852001944027077, 정확도: 98.82425925925926, 테스트 손실: 0.057187751199792275, 테스트 정확도: 98.32333333333332\n",
      "에포크: 10, 손실: 0.03520744317879621, 정확도: 98.92466666666667, 테스트 손실: 0.057694665916117875, 테스트 정확도: 98.363\n",
      "Train & Test Finished\n"
     ]
    }
   ],
   "source": [
    "########### 학습 ###########\n",
    "@tf.function\n",
    "def train(x, y):\n",
    "    with tf.GradientTape() as tape:\n",
    "        t_predict = model(x)\n",
    "        t_loss = loss(y, t_predict)\n",
    "    gradients = tape.gradient(t_loss, model.trainable_variables)\n",
    "    optimizer.apply_gradients(zip(gradients, model.trainable_variables))\n",
    "        \n",
    "    train_loss(t_loss)\n",
    "    train_accuracy(y, t_predict)\n",
    "\n",
    "@tf.function\n",
    "def test(x,y):\n",
    "    t_predict = model(x)\n",
    "    t_loss = loss(y, t_predict)\n",
    "    \n",
    "    test_loss(t_loss)\n",
    "    test_accuracy(y, t_predict)\n",
    "    \n",
    "for e in range(Epochs):\n",
    "    for x, y in train_ds:\n",
    "        train(x, y)\n",
    "    for x, y in test_ds:\n",
    "        test(x, y)\n",
    "    \n",
    "    template = '에포크: {}, 손실: {}, 정확도: {}, 테스트 손실: {}, 테스트 정확도: {}'\n",
    "    print (template.format(e+1,train_loss.result(), train_accuracy.result()*100, test_loss.result(), test_accuracy.result()*100))\n",
    "print(\"Train & Test Finished\")\n"
   ]
  },
  {
   "cell_type": "code",
   "execution_count": 6,
   "metadata": {},
   "outputs": [
    {
     "name": "stdout",
     "output_type": "stream",
     "text": [
      "(9, 1, 10)\n",
      "(9, 1, 28, 28, 1)\n",
      "(9, 1)\n"
     ]
    }
   ],
   "source": [
    "path = \"C:\\\\Users\\\\jiyoo\\\\Documents\\\\jupyter\\\\123\"\n",
    "imagePaths = [os.path.join(path,file_name) for file_name in os.listdir(path)]\n",
    "\n",
    "label = [[1], [2], [3], [4], [5], [6], [7], [8], [9]]\n",
    "prd_label = np.array(label) #label이 들어있는 배열\n",
    "prd_array = np.empty((0, 1, 10)) #예측 결과 tensor가 들어있는 배열\n",
    "img_arr = np.empty((0, 1, 28, 28, 1)) #예측용 이미지 저장 배열\n",
    "\n",
    "for image in imagePaths: #이미지를 배열로 변환하여 저장\n",
    "    img = tf.compat.v1.read_file(image)\n",
    "    img_array = tf.image.decode_png(img, channels=1)\n",
    "    \n",
    "    img_array_np = np.array(img_array) / 255.0\n",
    "    img_array_np = np.expand_dims(img_array_np, axis = 0)\n",
    "\n",
    "    prd_array = np.r_[prd_array, [model(img_array_np)]]\n",
    "    img_arr = np.r_[img_arr, [img_array_np]]\n",
    "    \n",
    "print(prd_array.shape)\n",
    "print(img_arr.shape)\n",
    "print(prd_label.shape)"
   ]
  },
  {
   "cell_type": "code",
   "execution_count": 7,
   "metadata": {},
   "outputs": [],
   "source": [
    "def plot_image(i, prd_array, prd_label, img_arr):\n",
    "    prediction, label, img = prd_array[i][0], prd_label[i], img_arr[i].reshape(28, 28)\n",
    "    plt.grid(False)\n",
    "    plt.xticks([])\n",
    "    plt.imshow(img, cmap = 'gray')\n",
    "    predicted = np.argmax(prediction)\n",
    "    if predicted == label:\n",
    "        color = 'blue'\n",
    "    else:\n",
    "        color = 'red'\n",
    "        \n",
    "    plt.xlabel(\"{} {:2.0f}% ({})\".format(label,100*np.max(prediction), np.argmax(prediction)))\n",
    "    \n",
    "def plot_value_array(i, prd_array, prd_label):\n",
    "    prediction, label = prd_array[i][0], prd_label[i]\n",
    "    plt.grid(False)\n",
    "    plt.xticks([])\n",
    "    plt.yticks([])\n",
    "    thisplot = plt.bar(range(10), prediction, color=\"#777777\")\n",
    "    plt.ylim([0, 1])\n",
    "    predicted = np.argmax(prediction)\n",
    "    \n",
    "    thisplot[predicted].set_color('red')\n",
    "    thisplot[np.array(label[0])].set_color('blue')"
   ]
  },
  {
   "cell_type": "code",
   "execution_count": 8,
   "metadata": {},
   "outputs": [
    {
     "data": {
      "image/png": "[encoded data removed]",
      "text/plain": [
       "<Figure size 864x432 with 18 Axes>"
      ]
     },
     "metadata": {
      "needs_background": "light"
     },
     "output_type": "display_data"
    }
   ],
   "source": [
    "num_rows = 3\n",
    "num_cols = 3\n",
    "num_images = num_rows*num_cols\n",
    "plt.figure(figsize=(2*2*num_cols, 2*num_rows))\n",
    "\n",
    "for i in range(9):\n",
    "    plt.subplot(num_rows, 2*num_cols, 2*i+1)\n",
    "    plot_image(i, prd_array, prd_label, img_arr)\n",
    "    plt.subplot(num_rows, 2*num_cols, 2*i+2)\n",
    "    plot_value_array(i, prd_array, prd_label)\n",
    "plt.show()\n"
   ]
  },
  {
   "cell_type": "code",
   "execution_count": null,
   "metadata": {},
   "outputs": [],
   "source": []
  }
 ],
 "metadata": {
  "kernelspec": {
   "display_name": "tensorflow",
   "language": "python",
   "name": "tensorflow"
  },
  "language_info": {
   "codemirror_mode": {
    "name": "ipython",
    "version": 3
   },
   "file_extension": ".py",
   "mimetype": "text/x-python",
   "name": "python",
   "nbconvert_exporter": "python",
   "pygments_lexer": "ipython3",
   "version": "3.7.5"
  },
  "widgets": {
   "application/vnd.jupyter.widget-state+json": {
    "state": {},
    "version_major": 2,
    "version_minor": 0
   }
  }
 },
 "nbformat": 4,
 "nbformat_minor": 2
}
