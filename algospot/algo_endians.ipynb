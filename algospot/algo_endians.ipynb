{
 "cells": [
  {
   "cell_type": "code",
   "execution_count": 4,
   "metadata": {},
   "outputs": [
    {
     "name": "stdout",
     "output_type": "stream",
     "text": [
      "4\n",
      "2018915346\n",
      "1\n",
      "100000\n",
      "4294967295\n",
      "305419896\n",
      "16777216\n",
      "2693136640\n",
      "4294967295\n"
     ]
    }
   ],
   "source": [
    "tc = int(input())\n",
    "nn = []\n",
    "for j in range(tc):\n",
    "    n = int(input())\n",
    "    a = n & 0xFF\n",
    "    b = (n >> 8) & 0xFF\n",
    "    c = (n >> 16) & 0xFF\n",
    "    d = (n >> 24) & 0xFF\n",
    "    \n",
    "    nn.append(0x00000000 | d | (c<<8) | (b<<16) | (a<<24))\n",
    "    \n",
    "for j in range(tc):\n",
    "    print(nn[j])"
   ]
  }
 ],
 "metadata": {
  "kernelspec": {
   "display_name": "Python 3",
   "language": "python",
   "name": "python3"
  },
  "language_info": {
   "codemirror_mode": {
    "name": "ipython",
    "version": 3
   },
   "file_extension": ".py",
   "mimetype": "text/x-python",
   "name": "python",
   "nbconvert_exporter": "python",
   "pygments_lexer": "ipython3",
   "version": "3.7.4"
  }
 },
 "nbformat": 4,
 "nbformat_minor": 2
}
