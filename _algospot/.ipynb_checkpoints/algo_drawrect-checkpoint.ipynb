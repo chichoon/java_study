{
 "cells": [
  {
   "cell_type": "code",
   "execution_count": null,
   "metadata": {},
   "outputs": [],
   "source": [
    "tc = int(input())\n",
    "\n",
    "for j in range(tc):\n",
    "    c = [input().split(' ') for k in range(3)]\n",
    "    if(c[0][0] == c[1][0]):\n",
    "        if(c[0][1] == c[2][1]):\n",
    "            c.append([c[2][0], c[1][1]])\n",
    "        elif(c[1][1] == c[2][1]):\n",
    "            c.append([c[2][0], c[0][1]])\n",
    "    elif(c[0][0] == c[2][0]):\n",
    "        if(c[0][1] == c[1][1]):\n",
    "            c.append([c[1][0], c[2][1]])\n",
    "        elif(c[1][1] == c[2][1]):\n",
    "            c.append([c[1][0], c[0][1]])\n",
    "    elif(c[1][0] == c[2][0]):\n",
    "        if(c[0][1] == c[1][1]):\n",
    "            c.append([c[0][0], c[2][1]])\n",
    "        elif(c[0][1] == c[2][1]):\n",
    "            c.append([c[0][0], c[1][1]])\n",
    "    print(' '.join(c[3]))"
   ]
  },
  {
   "cell_type": "markdown",
   "metadata": {},
   "source": []
  }
 ],
 "metadata": {
  "kernelspec": {
   "display_name": "Python 3",
   "language": "python",
   "name": "python3"
  }
 },
 "nbformat": 4,
 "nbformat_minor": 2
}
