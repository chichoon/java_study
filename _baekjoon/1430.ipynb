{
 "cells": [
  {
   "cell_type": "code",
   "execution_count": null,
   "metadata": {},
   "outputs": [],
   "source": [
    "#다솜이는 누구나 쉽게 게임을 만들 수 있도록 하기 위해 Microsoft에서 출시한 XNA Game Studio Express를 가지고 게임을 만들었다.\n",
    "#다솜이의 게임은 적의 공격에 대비해서 도시를 방어하는 게임이다. 도시에는 탑이 N개가 있다. \n",
    "#각각의 탑은 X-Y좌표 평면위에 존재한다. 또, 탑은 맨 처음에 D의 에너지를 가지고 있고, 탑의 사정거리는 R이다.\n",
    "#탑 주변에 적이 나타나면, 탑은 적을 다음과 같은 방법으로 공격할 수 있다.\n",
    "#일단, 탑은 자신의 에너지를 재분배할 수 있다. 만약 서로 다른 두 탑의 거리가 R보다 작거나 같다면, \n",
    "#둘 중에 한 탑은 다른 탑에게 에너지를 자기가 가지고 있는 한도내에서 자유롭게 전송할 수 있다. \n",
    "#하지만, 에너지를 전송할 때는, 절반을 잃는다. (탑 1이 탑 2에게 에너지를 10 전송하면, \n",
    "#                            탑 1은 에너지를 10을 잃고, 탑 2는 에너지를 5 얻는다.)\n",
    "\n",
    "#탑이 적을 공격할 때는, 적과 탑의 거리가 R보다 작거나 같아야한다. \n",
    "#탑에서 적을 공격할 때는, 자신의 모든 에너지를 적을 공격하는데 쓴다. \n",
    "#이때 적이 받는 데미지는 에너지의 양과 같다.\n",
    "\n",
    "#적이 받을 수 있는 에너지의 최댓값을 구하는 프로그램을 작성하시오.\n",
    "\n",
    "#입력\n",
    "#첫째 줄에 탑의 개수 N, 사정 거리 R, 초기 에너지 D, 적의 X좌표 X, 적의 Y좌표 Y가 주어진다. \n",
    "#둘째 줄부터는 탑의 위치가 한 줄에 하나씩 X좌표 Y좌표 순으로 주어진다. \n",
    "#N은 100보다 작거나 같은 자연수이고, R은 5,000보다 작거나 같은 자연수, \n",
    "#D는 1,000보다 작거나 같은 자연수이다. 모든 X좌표와 Y좌표는 1,000보다 작거나 같은 음이 아닌 정수이다. \n",
    "#탑의 위치가 같은 경우는 없고, 적과 탑의 위치가 같은 경우도 입력으로 주어지지 않는다.\n",
    "\n",
    "import math\n",
    "\n",
    "N, R, D, eX, eY = input().split()\n",
    "N = int(N)\n",
    "R = int(R)\n",
    "D = int(D)\n",
    "eX = int(eX)\n",
    "eY = int(eY)\n",
    "\n",
    "L = []\n",
    "Damage = 0 #나중에 적에게 쏘아올릴 총 데미지 계산용\n",
    "\n",
    "for i in range(0, N):\n",
    "    L.append([])\n",
    "    iX, iY = input().split()\n",
    "    iX = int(iX)\n",
    "    iY = int(iY)\n",
    "    L[i].append(iX)\n",
    "    L[i].append(iY)\n",
    "    L[i].append(0)\n",
    "    L[i].append(D) #i번째 포탑의 X좌표, Y좌표, 적 포탑의 사정거리 존재여부, 에너지 양\n",
    "    if math.sqrt(pow(L[i][0] - eX, 2) + pow(L[i][1] - eY, 2)) <= R: #적 포탑이 사정거리 내부에 존재할 때\n",
    "        L[i][2] = 1 #플래그를 1로\n",
    "    else: #아니면\n",
    "        L[i][2] = 0 #플래그를 0으로\n",
    "\n",
    "for i in range(0,N):\n",
    "    for j in range(i, N):\n",
    "        if math.sqrt(pow(L[i][0] - L[j][0], 2) + pow(L[i][0] - L[j][0], 2)) <= R: #i와 j의 거리가 R보다 작을 때\n",
    "            if L[i][2] == 1: #i번째 포탑 사정거리가 R보다 작음\n",
    "                if L[j][2] == 1: #j번째 포탑 사정거리가 R보다 작음\n",
    "                    continue #SKIP\n",
    "                elif L[j][2] == 0: #j번째 포탑 사정거리가 R보다 큼\n",
    "                    L[i][3] = L[i][3] + (L[j][3]) / 2 #j가 i에게 에너지 넘겨줌\n",
    "                    L[j][3] = 0\n",
    "            elif L[i][2] == 0: #i번째 포탑 사정거리가 R보다 큼\n",
    "                if L[j][2] == 1: #j번째 포탑 사정거리가 R보다 작음\n",
    "                    L[j][3] = L[j][3] + (L[i][3]) / 2 #i가 j에게 에너지 넘겨줌\n",
    "                    L[i][3] = 0 \n",
    "                elif L[j][2] == 0:#j번째 포탑 사정거리가 R보다 큼\n",
    "                    continue #SKIP\n",
    "for i in range(0, N):\n",
    "    if L[i][2] == 1:\n",
    "        Damage = Damage + L[i][3]\n"
   ]
  },
  {
   "cell_type": "code",
   "execution_count": null,
   "metadata": {},
   "outputs": [],
   "source": [
    "\n",
    "print(Damage)\n",
    "        "
   ]
  },
  {
   "cell_type": "code",
   "execution_count": null,
   "metadata": {},
   "outputs": [],
   "source": []
  }
 ],
 "metadata": {
  "kernelspec": {
   "display_name": "Python 3",
   "language": "python",
   "name": "python3"
  },
  "language_info": {
   "codemirror_mode": {
    "name": "ipython",
    "version": 3
   },
   "file_extension": ".py",
   "mimetype": "text/x-python",
   "name": "python",
   "nbconvert_exporter": "python",
   "pygments_lexer": "ipython3",
   "version": "3.7.4"
  }
 },
 "nbformat": 4,
 "nbformat_minor": 2
}
